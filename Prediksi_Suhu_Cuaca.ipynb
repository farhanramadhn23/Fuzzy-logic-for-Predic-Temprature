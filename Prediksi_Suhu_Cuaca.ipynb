{
  "nbformat": 4,
  "nbformat_minor": 0,
  "metadata": {
    "colab": {
      "provenance": []
    },
    "kernelspec": {
      "name": "python3",
      "display_name": "Python 3"
    },
    "language_info": {
      "name": "python"
    }
  },
  "cells": [
    {
      "cell_type": "code",
      "execution_count": null,
      "metadata": {
        "id": "LkYLHP7-jZY0",
        "outputId": "5da48ca7-f092-4a3a-f032-d8abc23ebf0a",
        "colab": {
          "base_uri": "https://localhost:8080/"
        }
      },
      "outputs": [
        {
          "output_type": "stream",
          "name": "stdout",
          "text": [
            "Masukkan kelembapan (%): 76\n",
            "Masukkan kecepatan angin (m/s): 3.61\n",
            "Suhu yang diprediksi adalah: 32.85 derajat Celsius\n"
          ]
        }
      ],
      "source": [
        "# Fungsi keanggotaan\n",
        "def fuzzy_humidity(humidity):\n",
        "    low = max(0, min(1, (50 - humidity) / 50))\n",
        "    medium = max(0, min((humidity - 30) / 20, (70 - humidity) / 20))\n",
        "    high = max(0, min(1, (humidity - 50) / 50))\n",
        "    return low, medium, high\n",
        "\n",
        "def fuzzy_wind_speed(wind_speed):\n",
        "    slow = max(0, min(1, (5 - wind_speed) / 5))\n",
        "    medium = max(0, min((wind_speed - 3) / 2, (7 - wind_speed) / 2))\n",
        "    fast = max(0, min(1, (wind_speed - 5) / 5))\n",
        "    return slow, medium, fast\n",
        "\n",
        "# Aturan fuzzy\n",
        "def fuzzy_rules(humidity, wind_speed):\n",
        "    low_humidity, medium_humidity, high_humidity = fuzzy_humidity(humidity)\n",
        "    slow_wind, medium_wind, fast_wind = fuzzy_wind_speed(wind_speed)\n",
        "\n",
        "    rules = {\n",
        "        'cold': max(min(low_humidity, slow_wind), min(medium_humidity, slow_wind)),\n",
        "        'warm': max(min(low_humidity, medium_wind), min(medium_humidity, medium_wind), min(high_humidity, slow_wind)),\n",
        "        'hot': max(min(low_humidity, fast_wind), min(medium_humidity, fast_wind), min(high_humidity, medium_wind), min(high_humidity, fast_wind))\n",
        "    }\n",
        "    return rules\n",
        "\n",
        "# Defuzzifikasi (centroid method)\n",
        "def defuzzification(rules):\n",
        "    cold = rules['cold'] * 10\n",
        "    warm = rules['warm'] * 25\n",
        "    hot = rules['hot'] * 40\n",
        "    total_weight = rules['cold'] + rules['warm'] + rules['hot']\n",
        "    if total_weight == 0:\n",
        "        return 0\n",
        "    return (cold + warm + hot) / total_weight\n",
        "\n",
        "# Main program\n",
        "humidity = float(input(\"Masukkan kelembapan (%): \"))\n",
        "wind_speed = float(input(\"Masukkan kecepatan angin (m/s): \"))\n",
        "\n",
        "rules = fuzzy_rules(humidity, wind_speed)\n",
        "predicted_temperature = defuzzification(rules)\n",
        "\n",
        "print(f\"Suhu yang diprediksi adalah: {predicted_temperature:.2f} derajat Celsius\")"
      ]
    }
  ]
}